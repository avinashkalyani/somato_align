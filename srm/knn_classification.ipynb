{
 "cells": [
  {
   "cell_type": "code",
   "execution_count": 1,
   "metadata": {
    "ExecuteTime": {
     "end_time": "2019-12-03T11:27:09.525632Z",
     "start_time": "2019-12-03T11:26:55.221359Z"
    }
   },
   "outputs": [],
   "source": [
    "from sklearn.neighbors import KNeighborsClassifier\n",
    "import numpy as np\n",
    "from os.path import join as pjoin\n",
    "from scipy.stats import zscore\n",
    "import hypertools as hyp\n",
    "import pandas as pd\n",
    "from IPython.display import HTML\n",
    "import seaborn as sns\n",
    "import matplotlib.pyplot as plt\n",
    "import warnings; warnings.simplefilter('ignore')\n",
    "from mpl_toolkits.mplot3d import Axes3D\n",
    "import runpy\n",
    "%matplotlib inline"
   ]
  },
  {
   "cell_type": "code",
   "execution_count": 2,
   "metadata": {
    "ExecuteTime": {
     "end_time": "2019-12-03T11:27:10.598961Z",
     "start_time": "2019-12-03T11:27:09.529229Z"
    }
   },
   "outputs": [],
   "source": [
    "# import functions from other scripts\n",
    "file_globals = runpy.run_path('digit_classification.py')\n",
    "get_digit_indices = file_globals['get_digit_indices']"
   ]
  },
  {
   "cell_type": "markdown",
   "metadata": {},
   "source": [
    "# Load data"
   ]
  },
  {
   "cell_type": "code",
   "execution_count": 3,
   "metadata": {
    "ExecuteTime": {
     "end_time": "2019-12-03T11:27:10.715832Z",
     "start_time": "2019-12-03T11:27:10.601816Z"
    }
   },
   "outputs": [],
   "source": [
    "# load data\n",
    "results_dir = '/data/BnB_USER/oliver/somato/scratch/crossval_projection'\n",
    "\n",
    "# for first run is training, second is test\n",
    "proj_data_run1train_npy = pjoin(results_dir, 'proj_run1_is_train.npy')\n",
    "trained_srms_run1train_npy = pjoin(results_dir, 'trainedsrms_run1_is_train.npy')\n",
    "with open(proj_data_run1train_npy, 'rb') as inf:\n",
    "    proj_data_run1train = np.load(inf)\n",
    "with open(trained_srms_run1train_npy, 'rb') as inf:\n",
    "    trained_srms_run1train = np.load(inf)\n",
    "    \n",
    "# second run is training, first is test\n",
    "proj_data_run2train_npy = pjoin(results_dir, 'proj_run2_is_train.npy')\n",
    "trained_srms_run2train_npy = pjoin(results_dir, 'trainedsrms_run2_is_train.npy')\n",
    "\n",
    "with open(proj_data_run2train_npy, 'rb') as inf:\n",
    "    proj_data_run2train = np.load(inf)\n",
    "with open(trained_srms_run1train_npy, 'rb') as inf:\n",
    "    trained_srms_run2train = np.load(inf)"
   ]
  },
  {
   "cell_type": "code",
   "execution_count": 4,
   "metadata": {
    "ExecuteTime": {
     "end_time": "2019-12-03T11:27:10.729737Z",
     "start_time": "2019-12-03T11:27:10.717674Z"
    }
   },
   "outputs": [],
   "source": [
    "# make lists of data frames for hypertools plotting\n",
    "\n",
    "# first run is training, second is test\n",
    "projected_dfs_run2 = []\n",
    "trained_srms_dfs_run1 = []\n",
    "\n",
    "for sub_idx in range(proj_data_run1train.shape[0]):\n",
    "    df = pd.DataFrame(proj_data_run1train[sub_idx].T)\n",
    "    projected_dfs_run2.append(df)\n",
    "    srm_df = pd.DataFrame(trained_srms_run1train[sub_idx].T)\n",
    "    trained_srms_dfs_run1.append(srm_df)\n",
    "\n",
    "# second run is training, first is test\n",
    "projected_dfs_run1 = []\n",
    "trained_srms_dfs_run2 = []\n",
    "\n",
    "for sub_idx in range(proj_data_run2train.shape[0]):\n",
    "    df = pd.DataFrame(proj_data_run2train[sub_idx].T)\n",
    "    projected_dfs_run1.append(df)\n",
    "    srm_df = pd.DataFrame(trained_srms_run2train[sub_idx].T)\n",
    "    trained_srms_dfs_run2.append(srm_df)"
   ]
  },
  {
   "cell_type": "code",
   "execution_count": 5,
   "metadata": {
    "ExecuteTime": {
     "end_time": "2019-12-03T11:27:10.744737Z",
     "start_time": "2019-12-03T11:27:10.732938Z"
    }
   },
   "outputs": [],
   "source": [
    "# create finger-color arrays\n",
    "\n",
    "# get ndarrays (nfingers, nvols)\n",
    "digits_run1, digits_run2 = get_digit_indices()\n",
    "\n",
    "# turn into flat arrays with values 1-5\n",
    "digit_colors_run1, digit_colors_run2 = np.zeros(shape=(256)), np.zeros(shape=(256))\n",
    "for finger_i in range(1,6):\n",
    "    digit_colors_run1[digits_run1[finger_i-1]] = finger_i\n",
    "    digit_colors_run2[digits_run2[finger_i-1]] = finger_i\n",
    "\n",
    "# for some reason, the first entry in the first run's digit array is a 5, but should be a 1...\n",
    "digit_colors_run1[0]=1."
   ]
  },
  {
   "cell_type": "markdown",
   "metadata": {},
   "source": [
    "## Helper function"
   ]
  },
  {
   "cell_type": "code",
   "execution_count": 6,
   "metadata": {
    "ExecuteTime": {
     "end_time": "2019-12-03T11:27:10.755272Z",
     "start_time": "2019-12-03T11:27:10.747428Z"
    }
   },
   "outputs": [],
   "source": [
    "def to_matrix_form(training_dfs, test_df,\n",
    "                   training_digits, test_digits):\n",
    "    \"\"\"\n",
    "    Take my list of arrays and bring them into suitable matrices of data and labels\n",
    "    for the classification.\n",
    "    \"\"\"\n",
    "    training_matrix = np.vstack([df.as_matrix() for df in training_dfs])\n",
    "    test_matrix = test_df.as_matrix()\n",
    "    training_labels = np.tile(training_digits, len(training_dfs))\n",
    "    \n",
    "    return training_matrix, test_matrix, training_labels"
   ]
  },
  {
   "cell_type": "markdown",
   "metadata": {},
   "source": [
    "# within subject, cross run"
   ]
  },
  {
   "cell_type": "markdown",
   "metadata": {},
   "source": [
    "Train classifier on one run and test on the other run of the same subject. This does not allow much cross-validation. But we may still vary parameter k."
   ]
  },
  {
   "cell_type": "code",
   "execution_count": 7,
   "metadata": {
    "ExecuteTime": {
     "end_time": "2019-12-03T11:27:16.085173Z",
     "start_time": "2019-12-03T11:27:10.757548Z"
    }
   },
   "outputs": [],
   "source": [
    "# kn parameters to iterate over\n",
    "kn_range = range(1,51,2)\n",
    "\n",
    "# results array of shape (kn_range, nruns, nsubjecs)\n",
    "results = np.zeros((len(kn_range), 2, len(projected_dfs_run1)))\n",
    "\n",
    "for kn in kn_range:\n",
    "    for sub_i in range(len(projected_dfs_run1)):\n",
    "\n",
    "        # train on run 1 and test on \n",
    "        train_run = zscore(projected_dfs_run1[sub_i].as_matrix(), axis=0)\n",
    "        test_run = zscore(projected_dfs_run2[sub_i].as_matrix(), axis=0)\n",
    "        neigh = KNeighborsClassifier(n_neighbors=kn)\n",
    "        neigh.fit(train_run, digit_colors_run1)\n",
    "        results[kn_range.index(kn), 0, sub_i] = neigh.score(test_run, digit_colors_run2)\n",
    "\n",
    "        # train on run 1 and test on 2\n",
    "        train_run = zscore(projected_dfs_run2[sub_i].as_matrix(), axis=0)\n",
    "        test_run = zscore(projected_dfs_run1[sub_i].as_matrix(), axis=0)\n",
    "        neigh = KNeighborsClassifier(n_neighbors=kn)\n",
    "        neigh.fit(train_run, digit_colors_run2)\n",
    "        results[kn_range.index(kn), 0, sub_i] = neigh.score(test_run, digit_colors_run1)\n"
   ]
  },
  {
   "cell_type": "code",
   "execution_count": 8,
   "metadata": {
    "ExecuteTime": {
     "end_time": "2019-12-03T11:27:16.093442Z",
     "start_time": "2019-12-03T11:27:16.087121Z"
    }
   },
   "outputs": [
    {
     "data": {
      "text/plain": [
       "(25,)"
      ]
     },
     "execution_count": 8,
     "metadata": {},
     "output_type": "execute_result"
    }
   ],
   "source": [
    "# average result over subjects\n",
    "av_results = np.average(results, axis=2)\n",
    "av_results = np.average(av_results, axis=1)\n",
    "av_results.shape"
   ]
  },
  {
   "cell_type": "code",
   "execution_count": 9,
   "metadata": {
    "ExecuteTime": {
     "end_time": "2019-12-03T11:27:16.891882Z",
     "start_time": "2019-12-03T11:27:16.096564Z"
    }
   },
   "outputs": [
    {
     "data": {
      "text/plain": [
       "<matplotlib.axes._subplots.AxesSubplot at 0x7f822806fc88>"
      ]
     },
     "execution_count": 9,
     "metadata": {},
     "output_type": "execute_result"
    },
    {
     "data": {
      "image/png": "[encoded data removed]",
      "text/plain": [
       "<Figure size 432x288 with 1 Axes>"
      ]
     },
     "metadata": {
      "needs_background": "light"
     },
     "output_type": "display_data"
    }
   ],
   "source": [
    "plt.xlabel('k-neighbors')\n",
    "plt.ylabel('average accuracy')\n",
    "plt.title('cross-run, within-subject knn-predictions')\n",
    "sns.lineplot(x=kn_range, y=av_results)"
   ]
  },
  {
   "cell_type": "markdown",
   "metadata": {},
   "source": [
    "Within-subject digit classification performs at chance level."
   ]
  },
  {
   "cell_type": "markdown",
   "metadata": {},
   "source": [
    "# within run, cross subject"
   ]
  },
  {
   "cell_type": "markdown",
   "metadata": {},
   "source": [
    "For a given run, train the classifier on all subjects but one and test respectively. Here, we could think about z-scoring across all subjects data, instead of seperately for subjects."
   ]
  },
  {
   "cell_type": "code",
   "execution_count": 10,
   "metadata": {
    "ExecuteTime": {
     "end_time": "2019-12-03T11:28:03.301874Z",
     "start_time": "2019-12-03T11:27:16.893510Z"
    },
    "scrolled": false
   },
   "outputs": [],
   "source": [
    "kn_range = range(1,81,2)\n",
    "\n",
    "# results array\n",
    "results = np.zeros((len(kn_range), 2, len(projected_dfs_run1)))\n",
    "\n",
    "\n",
    "for kn in kn_range:\n",
    "    for sub_i in range(len(projected_dfs_run1)):\n",
    "        # within first run\n",
    "        test_df = projected_dfs_run1[sub_i]\n",
    "        train_dfs = [df for i, df in enumerate(projected_dfs_run1) if i != sub_i]\n",
    "        training_matrix, test_matrix, training_labels = to_matrix_form(train_dfs, test_df, \n",
    "                                                                       digit_colors_run1, digit_colors_run1)\n",
    "        # z-score over all training subjects\n",
    "        training_matrix = zscore(training_matrix, axis=0)\n",
    "        neigh = KNeighborsClassifier(n_neighbors=kn)\n",
    "        neigh.fit(training_matrix, training_labels)\n",
    "        results[kn_range.index(kn), 0, sub_i] = neigh.score(zscore(test_matrix, axis=0), digit_colors_run1)\n",
    "\n",
    "        # within second run\n",
    "        test_df = projected_dfs_run2[sub_i]\n",
    "        train_dfs = [df for i, df in enumerate(projected_dfs_run2) if i != sub_i]\n",
    "        training_matrix, test_matrix, training_labels = to_matrix_form(train_dfs, test_df, \n",
    "                                                                       digit_colors_run2, digit_colors_run2)\n",
    "        \n",
    "        # z-score over all training subjects\n",
    "        training_matrix = zscore(training_matrix, axis=0)\n",
    "        neigh = KNeighborsClassifier(n_neighbors=kn)\n",
    "        neigh.fit(training_matrix, training_labels)\n",
    "        results[kn_range.index(kn), 1, sub_i] = neigh.score(zscore(test_matrix, axis=0), digit_colors_run2)"
   ]
  },
  {
   "cell_type": "code",
   "execution_count": 11,
   "metadata": {
    "ExecuteTime": {
     "end_time": "2019-12-03T11:28:03.308187Z",
     "start_time": "2019-12-03T11:28:03.303608Z"
    }
   },
   "outputs": [
    {
     "data": {
      "text/plain": [
       "(40,)"
      ]
     },
     "execution_count": 11,
     "metadata": {},
     "output_type": "execute_result"
    }
   ],
   "source": [
    "# average result over subjects\n",
    "av_results = np.average(results, axis=2)\n",
    "av_results = np.average(av_results, axis=1)\n",
    "av_results.shape"
   ]
  },
  {
   "cell_type": "code",
   "execution_count": 12,
   "metadata": {
    "ExecuteTime": {
     "end_time": "2019-12-03T11:28:03.569391Z",
     "start_time": "2019-12-03T11:28:03.310947Z"
    }
   },
   "outputs": [
    {
     "data": {
      "text/plain": [
       "<matplotlib.axes._subplots.AxesSubplot at 0x7f822585b048>"
      ]
     },
     "execution_count": 12,
     "metadata": {},
     "output_type": "execute_result"
    },
    {
     "data": {
      "image/png": "[encoded data removed]",
      "text/plain": [
       "<Figure size 432x288 with 1 Axes>"
      ]
     },
     "metadata": {
      "needs_background": "light"
     },
     "output_type": "display_data"
    }
   ],
   "source": [
    "plt.xlabel('n-neighbors')\n",
    "plt.ylabel('average accuracy')\n",
    "plt.title(\"\"\"within-run, cross-subject knn-predictions\n",
    "max (%.2f) at k=%i\"\"\" % (np.max(av_results), kn_range[np.argmax(av_results)]))\n",
    "sns.lineplot(x=kn_range, y=av_results)"
   ]
  },
  {
   "cell_type": "markdown",
   "metadata": {},
   "source": [
    "# cross run and subject\n"
   ]
  },
  {
   "cell_type": "markdown",
   "metadata": {},
   "source": [
    "2-fold cross-validation just like in the scheme used for projecting the original data."
   ]
  },
  {
   "cell_type": "code",
   "execution_count": 13,
   "metadata": {
    "ExecuteTime": {
     "end_time": "2019-12-03T11:28:17.006819Z",
     "start_time": "2019-12-03T11:28:03.571416Z"
    }
   },
   "outputs": [],
   "source": [
    "kn_range = range(1,51,2)\n",
    "\n",
    "# results array\n",
    "results = np.zeros((len(kn_range), 2, len(projected_dfs_run1)))\n",
    "\n",
    "\n",
    "for kn in kn_range:\n",
    "    for sub_i in range(len(projected_dfs_run1)):\n",
    "        # first run as training\n",
    "        test_df = projected_dfs_run2[sub_i]\n",
    "        train_dfs = [df for i, df in enumerate(projected_dfs_run1) if i != sub_i]\n",
    "        training_matrix, test_matrix, training_labels = to_matrix_form(train_dfs, test_df, \n",
    "                                                                       digit_colors_run1, digit_colors_run2)\n",
    "        # z-score over all training subjects\n",
    "        training_matrix = zscore(training_matrix, axis=0)\n",
    "        neigh = KNeighborsClassifier(n_neighbors=kn)\n",
    "        neigh.fit(training_matrix, training_labels)\n",
    "        results[kn_range.index(kn), 0, sub_i] = neigh.score(zscore(test_matrix, axis=0), digit_colors_run2)\n",
    "        # second run as training\n",
    "        test_df = projected_dfs_run1[sub_i]\n",
    "        train_dfs = [df for i, df in enumerate(projected_dfs_run2) if i != sub_i]\n",
    "        training_matrix, test_matrix, training_labels = to_matrix_form(train_dfs, test_df, \n",
    "                                                                       digit_colors_run2, digit_colors_run1)\n",
    "        # z-score over all training subjects\n",
    "        training_matrix = zscore(training_matrix, axis=0)\n",
    "        neigh = KNeighborsClassifier(n_neighbors=kn)\n",
    "        neigh.fit(training_matrix, training_labels)\n",
    "        results[kn_range.index(kn), 1, sub_i] = neigh.score(zscore(test_matrix, axis=0), digit_colors_run2)"
   ]
  },
  {
   "cell_type": "code",
   "execution_count": 14,
   "metadata": {
    "ExecuteTime": {
     "end_time": "2019-12-03T11:28:17.014149Z",
     "start_time": "2019-12-03T11:28:17.009040Z"
    }
   },
   "outputs": [
    {
     "data": {
      "text/plain": [
       "(25,)"
      ]
     },
     "execution_count": 14,
     "metadata": {},
     "output_type": "execute_result"
    }
   ],
   "source": [
    "av_results = np.average(results, axis=2)\n",
    "av_results = np.average(av_results, axis=1)\n",
    "av_results.shape"
   ]
  },
  {
   "cell_type": "code",
   "execution_count": 15,
   "metadata": {
    "ExecuteTime": {
     "end_time": "2019-12-03T11:28:17.181756Z",
     "start_time": "2019-12-03T11:28:17.015399Z"
    }
   },
   "outputs": [
    {
     "data": {
      "text/plain": [
       "<matplotlib.axes._subplots.AxesSubplot at 0x7f81ea3e46a0>"
      ]
     },
     "execution_count": 15,
     "metadata": {},
     "output_type": "execute_result"
    },
    {
     "data": {
      "image/png": "[encoded data removed]",
      "text/plain": [
       "<Figure size 432x288 with 1 Axes>"
      ]
     },
     "metadata": {
      "needs_background": "light"
     },
     "output_type": "display_data"
    }
   ],
   "source": [
    "plt.xlabel('n-neighbors')\n",
    "plt.ylabel('average accuracy')\n",
    "plt.title(\"\"\"cross-run, cross-subject knn-predictions\n",
    "max (%.2f) at k=%i\"\"\" % (np.max(av_results), kn_range[np.argmax(av_results)]))\n",
    "sns.lineplot(x=kn_range, y=av_results)"
   ]
  },
  {
   "cell_type": "markdown",
   "metadata": {},
   "source": [
    "# TODO:\n",
    "\n",
    "- knn is not suited for data with too many features (how many?)\n",
    "- depending on how you z-score the accuracies change. How to best z-score??"
   ]
  },
  {
   "cell_type": "markdown",
   "metadata": {},
   "source": [
    "# Plot classification boundaries"
   ]
  },
  {
   "cell_type": "code",
   "execution_count": 19,
   "metadata": {
    "ExecuteTime": {
     "end_time": "2019-12-03T11:29:04.561557Z",
     "start_time": "2019-12-03T11:29:04.556478Z"
    }
   },
   "outputs": [
    {
     "name": "stdout",
     "output_type": "stream",
     "text": [
      "(6144, 10)\n"
     ]
    }
   ],
   "source": [
    "all_data = np.vstack([df.as_matrix() \n",
    "                      for run_dfs in [projected_dfs_run1, projected_dfs_run2]\n",
    "                      for df in run_dfs])\n",
    "print(all_data.shape)"
   ]
  },
  {
   "cell_type": "code",
   "execution_count": 20,
   "metadata": {
    "ExecuteTime": {
     "end_time": "2019-12-03T11:29:17.022809Z",
     "start_time": "2019-12-03T11:29:17.019385Z"
    }
   },
   "outputs": [],
   "source": [
    "all_data = zscore(all_data,axis=0)"
   ]
  },
  {
   "cell_type": "code",
   "execution_count": 29,
   "metadata": {
    "ExecuteTime": {
     "end_time": "2019-12-03T11:30:43.410106Z",
     "start_time": "2019-12-03T11:30:42.856899Z"
    }
   },
   "outputs": [
    {
     "data": {
      "image/png": "[encoded data removed]",
      "text/plain": [
       "<Figure size 432x288 with 2 Axes>"
      ]
     },
     "metadata": {
      "needs_background": "light"
     },
     "output_type": "display_data"
    }
   ],
   "source": [
    "plt.title('all data from all subjects and runs')\n",
    "sns.heatmap(all_data)\n",
    "plt.xlabel('features')\n",
    "plt.ylabel('sample')\n",
    "plt.show()"
   ]
  },
  {
   "cell_type": "code",
   "execution_count": 42,
   "metadata": {
    "ExecuteTime": {
     "end_time": "2019-12-03T11:33:36.919620Z",
     "start_time": "2019-12-03T11:33:36.913760Z"
    }
   },
   "outputs": [],
   "source": [
    "# repeat all digit labels to match all_data\n",
    "all_labels = np.hstack([\n",
    "    np.tile(digit_colors_run1, len(projected_dfs_run1)),\n",
    "    np.tile(digit_colors_run2, len(projected_dfs_run2))\n",
    "])\n",
    "\n",
    "assert len(all_labels) == all_data.shape[0]"
   ]
  },
  {
   "cell_type": "code",
   "execution_count": 44,
   "metadata": {
    "ExecuteTime": {
     "end_time": "2019-12-03T11:34:45.173906Z",
     "start_time": "2019-12-03T11:34:45.133965Z"
    }
   },
   "outputs": [
    {
     "data": {
      "text/plain": [
       "KNeighborsClassifier(algorithm='auto', leaf_size=30, metric='minkowski',\n",
       "                     metric_params=None, n_jobs=None, n_neighbors=50, p=2,\n",
       "                     weights='uniform')"
      ]
     },
     "execution_count": 44,
     "metadata": {},
     "output_type": "execute_result"
    }
   ],
   "source": [
    "# train a classifier on all data (nneighbors chosen quite arbitrarily)\n",
    "neigh = KNeighborsClassifier(n_neighbors=50)\n",
    "neigh.fit(all_data, all_labels)"
   ]
  },
  {
   "cell_type": "code",
   "execution_count": 196,
   "metadata": {
    "ExecuteTime": {
     "end_time": "2019-12-03T12:40:51.052889Z",
     "start_time": "2019-12-03T12:40:51.041581Z"
    }
   },
   "outputs": [
    {
     "name": "stdout",
     "output_type": "stream",
     "text": [
      "(10, 101)\n"
     ]
    }
   ],
   "source": [
    "# set up a mesh within the data range\n",
    "\n",
    "# how many points per axis\n",
    "npoints = 101\n",
    "\n",
    "# min and max values for each feature\n",
    "maxval_per_feat = [np.max(feature) for feature in all_data.T]\n",
    "minval_per_feat = [np.min(feature) for feature in all_data.T]\n",
    "\n",
    "# make evenly spaced coordinates. ax_grids has shape (npoints, nfeatures)\n",
    "feature_points = np.array([np.linspace(start=minval, stop=maxval, num=npoints) \n",
    "                     for minval, maxval in zip(minval_per_feat, maxval_per_feat)])\n",
    "print(feature_points.shape)"
   ]
  },
  {
   "cell_type": "code",
   "execution_count": 197,
   "metadata": {
    "ExecuteTime": {
     "end_time": "2019-12-03T12:40:55.480617Z",
     "start_time": "2019-12-03T12:40:55.461449Z"
    }
   },
   "outputs": [],
   "source": [
    "# make predictions for evenly spaced points\n",
    "pred = neigh.predict(feature_points.T)"
   ]
  },
  {
   "cell_type": "markdown",
   "metadata": {},
   "source": [
    "Alright. So now we have 101 coordinate vectores and 101 predictions. Let's try to plot them."
   ]
  }
 ],
 "metadata": {
  "kernelspec": {
   "display_name": "Python 3",
   "language": "python",
   "name": "python3"
  },
  "language_info": {
   "codemirror_mode": {
    "name": "ipython",
    "version": 3
   },
   "file_extension": ".py",
   "mimetype": "text/x-python",
   "name": "python",
   "nbconvert_exporter": "python",
   "pygments_lexer": "ipython3",
   "version": "3.5.3"
  },
  "toc": {
   "base_numbering": 1,
   "nav_menu": {},
   "number_sections": true,
   "sideBar": true,
   "skip_h1_title": false,
   "title_cell": "Table of Contents",
   "title_sidebar": "Contents",
   "toc_cell": false,
   "toc_position": {},
   "toc_section_display": true,
   "toc_window_display": false
  }
 },
 "nbformat": 4,
 "nbformat_minor": 2
}
