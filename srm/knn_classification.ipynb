{
 "cells": [
  {
   "cell_type": "code",
   "execution_count": 1,
   "metadata": {
    "ExecuteTime": {
     "end_time": "2019-12-01T21:09:23.405431Z",
     "start_time": "2019-12-01T21:09:09.677879Z"
    }
   },
   "outputs": [],
   "source": [
    "from sklearn.neighbors import KNeighborsClassifier\n",
    "import numpy as np\n",
    "from os.path import join as pjoin\n",
    "from scipy.stats import zscore\n",
    "import hypertools as hyp\n",
    "import pandas as pd\n",
    "from IPython.display import HTML\n",
    "import seaborn as sns\n",
    "import matplotlib.pyplot as plt\n",
    "import warnings; warnings.simplefilter('ignore')\n",
    "from mpl_toolkits.mplot3d import Axes3D\n",
    "import runpy\n",
    "%matplotlib inline"
   ]
  },
  {
   "cell_type": "code",
   "execution_count": 2,
   "metadata": {
    "ExecuteTime": {
     "end_time": "2019-12-01T21:09:24.313608Z",
     "start_time": "2019-12-01T21:09:23.407811Z"
    }
   },
   "outputs": [],
   "source": [
    "# import functions from other scripts\n",
    "file_globals = runpy.run_path('digit_classification.py')\n",
    "get_digit_indices = file_globals['get_digit_indices']"
   ]
  },
  {
   "cell_type": "markdown",
   "metadata": {},
   "source": [
    "# Load data"
   ]
  },
  {
   "cell_type": "code",
   "execution_count": 3,
   "metadata": {
    "ExecuteTime": {
     "end_time": "2019-12-01T21:09:24.453510Z",
     "start_time": "2019-12-01T21:09:24.316042Z"
    }
   },
   "outputs": [],
   "source": [
    "# load data\n",
    "results_dir = '/data/BnB_USER/oliver/somato/scratch/crossval_projection'\n",
    "\n",
    "# for first run is training, second is test\n",
    "proj_data_run1train_npy = pjoin(results_dir, 'proj_run1_is_train.npy')\n",
    "trained_srms_run1train_npy = pjoin(results_dir, 'trainedsrms_run1_is_train.npy')\n",
    "with open(proj_data_run1train_npy, 'rb') as inf:\n",
    "    proj_data_run1train = np.load(inf)\n",
    "with open(trained_srms_run1train_npy, 'rb') as inf:\n",
    "    trained_srms_run1train = np.load(inf)\n",
    "    \n",
    "# second run is training, first is test\n",
    "proj_data_run2train_npy = pjoin(results_dir, 'proj_run2_is_train.npy')\n",
    "trained_srms_run2train_npy = pjoin(results_dir, 'trainedsrms_run2_is_train.npy')\n",
    "\n",
    "with open(proj_data_run2train_npy, 'rb') as inf:\n",
    "    proj_data_run2train = np.load(inf)\n",
    "with open(trained_srms_run1train_npy, 'rb') as inf:\n",
    "    trained_srms_run2train = np.load(inf)"
   ]
  },
  {
   "cell_type": "code",
   "execution_count": 4,
   "metadata": {
    "ExecuteTime": {
     "end_time": "2019-12-01T21:09:24.476256Z",
     "start_time": "2019-12-01T21:09:24.456763Z"
    }
   },
   "outputs": [],
   "source": [
    "# make lists of data frames for hypertools plotting\n",
    "\n",
    "# first run is training, second is test\n",
    "projected_dfs_run2 = []\n",
    "trained_srms_dfs_run1 = []\n",
    "\n",
    "for sub_idx in range(proj_data_run1train.shape[0]):\n",
    "    df = pd.DataFrame(proj_data_run1train[sub_idx].T)\n",
    "    projected_dfs_run2.append(df)\n",
    "    srm_df = pd.DataFrame(trained_srms_run1train[sub_idx].T)\n",
    "    trained_srms_dfs_run1.append(srm_df)\n",
    "\n",
    "# second run is training, first is test\n",
    "projected_dfs_run1 = []\n",
    "trained_srms_dfs_run2 = []\n",
    "\n",
    "for sub_idx in range(proj_data_run2train.shape[0]):\n",
    "    df = pd.DataFrame(proj_data_run2train[sub_idx].T)\n",
    "    projected_dfs_run1.append(df)\n",
    "    srm_df = pd.DataFrame(trained_srms_run2train[sub_idx].T)\n",
    "    trained_srms_dfs_run2.append(srm_df)"
   ]
  },
  {
   "cell_type": "code",
   "execution_count": 5,
   "metadata": {
    "ExecuteTime": {
     "end_time": "2019-12-01T21:09:24.485052Z",
     "start_time": "2019-12-01T21:09:24.478321Z"
    }
   },
   "outputs": [],
   "source": [
    "# create finger-color arrays\n",
    "\n",
    "# get ndarrays (nfingers, nvols)\n",
    "digits_run1, digits_run2 = get_digit_indices()\n",
    "\n",
    "# turn into flat arrays with values 1-5\n",
    "digit_colors_run1, digit_colors_run2 = np.zeros(shape=(256)), np.zeros(shape=(256))\n",
    "for finger_i in range(1,6):\n",
    "    digit_colors_run1[digits_run1[finger_i-1]] = finger_i\n",
    "    digit_colors_run2[digits_run2[finger_i-1]] = finger_i\n",
    "\n",
    "# for some reason, the first entry in the first run's digit array is a 5, but should be a 1...\n",
    "digit_colors_run1[0]=1."
   ]
  },
  {
   "cell_type": "markdown",
   "metadata": {},
   "source": [
    "## Helper function"
   ]
  },
  {
   "cell_type": "code",
   "execution_count": 6,
   "metadata": {
    "ExecuteTime": {
     "end_time": "2019-12-01T21:09:24.492022Z",
     "start_time": "2019-12-01T21:09:24.487137Z"
    }
   },
   "outputs": [],
   "source": [
    "def to_matrix_form(training_dfs, test_df,\n",
    "                   training_digits, test_digits):\n",
    "    \"\"\"\n",
    "    Take my list of arrays and bring them into suitable matrices of data and labels\n",
    "    for the classification.\n",
    "    \"\"\"\n",
    "    training_matrix = np.vstack([df.as_matrix() for df in training_dfs])\n",
    "    test_matrix = test_df.as_matrix()\n",
    "    training_labels = np.tile(training_digits, len(training_dfs))\n",
    "    \n",
    "    return training_matrix, test_matrix, training_labels"
   ]
  },
  {
   "cell_type": "markdown",
   "metadata": {},
   "source": [
    "# within subject, cross run"
   ]
  },
  {
   "cell_type": "markdown",
   "metadata": {},
   "source": [
    "Train classifier on one run and test on the other run of the same subject. This does not allow much cross-validation. But we may still vary parameter k."
   ]
  },
  {
   "cell_type": "code",
   "execution_count": 7,
   "metadata": {
    "ExecuteTime": {
     "end_time": "2019-12-01T21:09:32.098663Z",
     "start_time": "2019-12-01T21:09:24.494095Z"
    }
   },
   "outputs": [],
   "source": [
    "# kn parameters to iterate over\n",
    "kn_range = range(1,51,2)\n",
    "\n",
    "# results array of shape (kn_range, nruns, nsubjecs)\n",
    "results = np.zeros((len(kn_range), 2, len(projected_dfs_run1)))\n",
    "\n",
    "for kn in kn_range:\n",
    "    for sub_i in range(len(projected_dfs_run1)):\n",
    "\n",
    "        # train on run 1 and test on \n",
    "        train_run = zscore(projected_dfs_run1[sub_i].as_matrix(), axis=0)\n",
    "        test_run = zscore(projected_dfs_run2[sub_i].as_matrix(), axis=0)\n",
    "        neigh = KNeighborsClassifier(n_neighbors=kn)\n",
    "        neigh.fit(train_run, digit_colors_run1)\n",
    "        results[kn_range.index(kn), 0, sub_i] = neigh.score(test_run, digit_colors_run2)\n",
    "\n",
    "        # train on run 1 and test on 2\n",
    "        train_run = zscore(projected_dfs_run2[sub_i].as_matrix(), axis=0)\n",
    "        test_run = zscore(projected_dfs_run1[sub_i].as_matrix(), axis=0)\n",
    "        neigh = KNeighborsClassifier(n_neighbors=kn)\n",
    "        neigh.fit(train_run, digit_colors_run2)\n",
    "        results[kn_range.index(kn), 0, sub_i] = neigh.score(test_run, digit_colors_run1)\n"
   ]
  },
  {
   "cell_type": "code",
   "execution_count": 8,
   "metadata": {
    "ExecuteTime": {
     "end_time": "2019-12-01T21:09:32.114418Z",
     "start_time": "2019-12-01T21:09:32.103578Z"
    }
   },
   "outputs": [
    {
     "data": {
      "text/plain": [
       "(25,)"
      ]
     },
     "execution_count": 8,
     "metadata": {},
     "output_type": "execute_result"
    }
   ],
   "source": [
    "# average result over subjects\n",
    "av_results = np.average(results, axis=2)\n",
    "av_results = np.average(av_results, axis=1)\n",
    "av_results.shape"
   ]
  },
  {
   "cell_type": "code",
   "execution_count": 9,
   "metadata": {
    "ExecuteTime": {
     "end_time": "2019-12-01T21:09:32.467126Z",
     "start_time": "2019-12-01T21:09:32.117734Z"
    }
   },
   "outputs": [
    {
     "data": {
      "text/plain": [
       "<matplotlib.axes._subplots.AxesSubplot at 0x7f6f5a56fe48>"
      ]
     },
     "execution_count": 9,
     "metadata": {},
     "output_type": "execute_result"
    },
    {
     "data": {
      "image/png": "[encoded data removed]",
      "text/plain": [
       "<Figure size 432x288 with 1 Axes>"
      ]
     },
     "metadata": {
      "needs_background": "light"
     },
     "output_type": "display_data"
    }
   ],
   "source": [
    "plt.xlabel('k-neighbors')\n",
    "plt.ylabel('average accuracy')\n",
    "plt.title('cross-run, within-subject knn-predictions')\n",
    "sns.lineplot(x=kn_range, y=av_results)"
   ]
  },
  {
   "cell_type": "markdown",
   "metadata": {},
   "source": [
    "Within-subject digit classification performs at chance level."
   ]
  },
  {
   "cell_type": "markdown",
   "metadata": {},
   "source": [
    "# within run, cross subject"
   ]
  },
  {
   "cell_type": "markdown",
   "metadata": {},
   "source": [
    "For a given run, train the classifier on all subjects but one and test respectively. Here, we could think about z-scoring across all subjects data, instead of seperately for subjects."
   ]
  },
  {
   "cell_type": "code",
   "execution_count": 10,
   "metadata": {
    "ExecuteTime": {
     "end_time": "2019-12-01T21:10:54.860379Z",
     "start_time": "2019-12-01T21:09:32.469308Z"
    },
    "scrolled": false
   },
   "outputs": [],
   "source": [
    "kn_range = range(1,151,2)\n",
    "\n",
    "# results array\n",
    "results = np.zeros((len(kn_range), 2, len(projected_dfs_run1)))\n",
    "\n",
    "\n",
    "for kn in kn_range:\n",
    "    for sub_i in range(len(projected_dfs_run1)):\n",
    "        # within first run\n",
    "        test_df = projected_dfs_run1[sub_i]\n",
    "        train_dfs = [df for i, df in enumerate(projected_dfs_run1) if i != sub_i]\n",
    "        training_matrix, test_matrix, training_labels = to_matrix_form(train_dfs, test_df, \n",
    "                                                                       digit_colors_run1, digit_colors_run1)\n",
    "        # z-score over all training subjects\n",
    "        training_matrix = zscore(training_matrix, axis=0)\n",
    "        neigh = KNeighborsClassifier(n_neighbors=kn)\n",
    "        neigh.fit(training_matrix, training_labels)\n",
    "        results[kn_range.index(kn), 0, sub_i] = neigh.score(zscore(test_matrix, axis=0), digit_colors_run1)\n",
    "\n",
    "        # within second run\n",
    "        test_df = projected_dfs_run2[sub_i]\n",
    "        train_dfs = [df for i, df in enumerate(projected_dfs_run2) if i != sub_i]\n",
    "        training_matrix, test_matrix, training_labels = to_matrix_form(train_dfs, test_df, \n",
    "                                                                       digit_colors_run2, digit_colors_run2)\n",
    "        \n",
    "        # z-score over all training subjects\n",
    "        training_matrix = zscore(training_matrix, axis=0)\n",
    "        neigh = KNeighborsClassifier(n_neighbors=kn)\n",
    "        neigh.fit(training_matrix, training_labels)\n",
    "        results[kn_range.index(kn), 1, sub_i] = neigh.score(zscore(test_matrix, axis=0), digit_colors_run2)"
   ]
  },
  {
   "cell_type": "code",
   "execution_count": 11,
   "metadata": {
    "ExecuteTime": {
     "end_time": "2019-12-01T21:10:54.866560Z",
     "start_time": "2019-12-01T21:10:54.862195Z"
    }
   },
   "outputs": [
    {
     "data": {
      "text/plain": [
       "(75,)"
      ]
     },
     "execution_count": 11,
     "metadata": {},
     "output_type": "execute_result"
    }
   ],
   "source": [
    "# average result over subjects\n",
    "av_results = np.average(results, axis=2)\n",
    "av_results = np.average(av_results, axis=1)\n",
    "av_results.shape"
   ]
  },
  {
   "cell_type": "code",
   "execution_count": 12,
   "metadata": {
    "ExecuteTime": {
     "end_time": "2019-12-01T21:10:55.065049Z",
     "start_time": "2019-12-01T21:10:54.868301Z"
    }
   },
   "outputs": [
    {
     "data": {
      "text/plain": [
       "<matplotlib.axes._subplots.AxesSubplot at 0x7f6f52921b38>"
      ]
     },
     "execution_count": 12,
     "metadata": {},
     "output_type": "execute_result"
    },
    {
     "data": {
      "image/png": "[encoded data removed]",
      "text/plain": [
       "<Figure size 432x288 with 1 Axes>"
      ]
     },
     "metadata": {
      "needs_background": "light"
     },
     "output_type": "display_data"
    }
   ],
   "source": [
    "plt.xlabel('n-neighbors')\n",
    "plt.ylabel('average accuracy')\n",
    "plt.title(\"\"\"within-run, cross-subject knn-predictions\n",
    "max (%.2f) at k=%i\"\"\" % (np.max(av_results), kn_range[np.argmax(av_results)]))\n",
    "sns.lineplot(x=kn_range, y=av_results)"
   ]
  },
  {
   "cell_type": "markdown",
   "metadata": {},
   "source": [
    "# cross run and subject\n"
   ]
  },
  {
   "cell_type": "markdown",
   "metadata": {},
   "source": [
    "2-fold cross-validation just like in the scheme used for projecting the original data."
   ]
  },
  {
   "cell_type": "code",
   "execution_count": 13,
   "metadata": {
    "ExecuteTime": {
     "end_time": "2019-12-01T21:11:07.894288Z",
     "start_time": "2019-12-01T21:10:55.067259Z"
    }
   },
   "outputs": [],
   "source": [
    "kn_range = range(1,51,2)\n",
    "\n",
    "# results array\n",
    "results = np.zeros((len(kn_range), 2, len(projected_dfs_run1)))\n",
    "\n",
    "\n",
    "for kn in kn_range:\n",
    "    for sub_i in range(len(projected_dfs_run1)):\n",
    "        # first run as training\n",
    "        test_df = projected_dfs_run2[sub_i]\n",
    "        train_dfs = [df for i, df in enumerate(projected_dfs_run1) if i != sub_i]\n",
    "        training_matrix, test_matrix, training_labels = to_matrix_form(train_dfs, test_df, \n",
    "                                                                       digit_colors_run1, digit_colors_run2)\n",
    "        # z-score over all training subjects\n",
    "        training_matrix = zscore(training_matrix, axis=0)\n",
    "        neigh = KNeighborsClassifier(n_neighbors=kn)\n",
    "        neigh.fit(training_matrix, training_labels)\n",
    "        results[kn_range.index(kn), 0, sub_i] = neigh.score(zscore(test_matrix, axis=0), digit_colors_run2)\n",
    "        # second run as training\n",
    "        test_df = projected_dfs_run1[sub_i]\n",
    "        train_dfs = [df for i, df in enumerate(projected_dfs_run2) if i != sub_i]\n",
    "        training_matrix, test_matrix, training_labels = to_matrix_form(train_dfs, test_df, \n",
    "                                                                       digit_colors_run2, digit_colors_run1)\n",
    "        # z-score over all training subjects\n",
    "        training_matrix = zscore(training_matrix, axis=0)\n",
    "        neigh = KNeighborsClassifier(n_neighbors=kn)\n",
    "        neigh.fit(training_matrix, training_labels)\n",
    "        results[kn_range.index(kn), 1, sub_i] = neigh.score(zscore(test_matrix, axis=0), digit_colors_run2)"
   ]
  },
  {
   "cell_type": "code",
   "execution_count": 14,
   "metadata": {
    "ExecuteTime": {
     "end_time": "2019-12-01T21:11:07.900275Z",
     "start_time": "2019-12-01T21:11:07.896030Z"
    }
   },
   "outputs": [
    {
     "data": {
      "text/plain": [
       "(25,)"
      ]
     },
     "execution_count": 14,
     "metadata": {},
     "output_type": "execute_result"
    }
   ],
   "source": [
    "av_results = np.average(results, axis=2)\n",
    "av_results = np.average(av_results, axis=1)\n",
    "av_results.shape"
   ]
  },
  {
   "cell_type": "code",
   "execution_count": 15,
   "metadata": {
    "ExecuteTime": {
     "end_time": "2019-12-01T21:11:08.066060Z",
     "start_time": "2019-12-01T21:11:07.901903Z"
    }
   },
   "outputs": [
    {
     "data": {
      "text/plain": [
       "<matplotlib.axes._subplots.AxesSubplot at 0x7f6f5289a400>"
      ]
     },
     "execution_count": 15,
     "metadata": {},
     "output_type": "execute_result"
    },
    {
     "data": {
      "image/png": "[encoded data removed]",
      "text/plain": [
       "<Figure size 432x288 with 1 Axes>"
      ]
     },
     "metadata": {
      "needs_background": "light"
     },
     "output_type": "display_data"
    }
   ],
   "source": [
    "plt.xlabel('n-neighbors')\n",
    "plt.ylabel('average accuracy')\n",
    "plt.title(\"\"\"cross-run, cross-subject knn-predictions\n",
    "max (%.2f) at k=%i\"\"\" % (np.max(av_results), kn_range[np.argmax(av_results)]))\n",
    "sns.lineplot(x=kn_range, y=av_results)"
   ]
  },
  {
   "cell_type": "markdown",
   "metadata": {},
   "source": [
    "# TODO:\n",
    "\n",
    "- knn is not suited for data with too many features (how many?)\n",
    "- depending on how you z-score the accuracies change. How to best z-score??"
   ]
  },
  {
   "cell_type": "code",
   "execution_count": null,
   "metadata": {},
   "outputs": [],
   "source": []
  }
 ],
 "metadata": {
  "kernelspec": {
   "display_name": "Python 3",
   "language": "python",
   "name": "python3"
  },
  "language_info": {
   "codemirror_mode": {
    "name": "ipython",
    "version": 3
   },
   "file_extension": ".py",
   "mimetype": "text/x-python",
   "name": "python",
   "nbconvert_exporter": "python",
   "pygments_lexer": "ipython3",
   "version": "3.5.3"
  },
  "toc": {
   "base_numbering": 1,
   "nav_menu": {},
   "number_sections": true,
   "sideBar": true,
   "skip_h1_title": false,
   "title_cell": "Table of Contents",
   "title_sidebar": "Contents",
   "toc_cell": false,
   "toc_position": {},
   "toc_section_display": true,
   "toc_window_display": false
  }
 },
 "nbformat": 4,
 "nbformat_minor": 2
}
