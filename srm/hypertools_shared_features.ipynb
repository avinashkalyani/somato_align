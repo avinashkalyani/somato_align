{
 "cells": [
  {
   "cell_type": "markdown",
   "metadata": {},
   "source": [
    "We can use the hypertools library to visualize the time course of the shared responses in a reduced dimensional space."
   ]
  },
  {
   "cell_type": "code",
   "execution_count": 3,
   "metadata": {
    "ExecuteTime": {
     "end_time": "2019-11-14T12:29:52.984471Z",
     "start_time": "2019-11-14T12:29:49.062902Z"
    },
    "scrolled": false
   },
   "outputs": [],
   "source": [
    "import pickle\n",
    "import hypertools as hyp\n",
    "import pandas as pd\n",
    "from IPython.display import HTML\n",
    "\n",
    "%matplotlib inline"
   ]
  },
  {
   "cell_type": "code",
   "execution_count": null,
   "metadata": {
    "ExecuteTime": {
     "start_time": "2019-11-14T12:29:49.797Z"
    }
   },
   "outputs": [],
   "source": [
    "# load pickle for robust srm on filtered data\n",
    "\n",
    "frsrm_pickle_path = '/home/homeGlobal/oli/somato/scratch/srm_filtered/rsrm.p'\n",
    "with open(frsrm_pickle_path, 'rb') as f:\n",
    "    frsrm = pickle.load(f)"
   ]
  },
  {
   "cell_type": "code",
   "execution_count": null,
   "metadata": {
    "ExecuteTime": {
     "start_time": "2019-11-14T12:29:51.256Z"
    }
   },
   "outputs": [],
   "source": [
    "# load into pandas. transpose array to have each column be one feature and each row a time step\n",
    "# add extra column for tr\n",
    "\n",
    "sr_df = pd.DataFrame(frsrm.r_.T)\n",
    "sr_df['tr'] = range(0,frsrm.r_.shape[1])  "
   ]
  },
  {
   "cell_type": "code",
   "execution_count": null,
   "metadata": {
    "ExecuteTime": {
     "start_time": "2019-11-14T12:29:51.431Z"
    }
   },
   "outputs": [],
   "source": [
    "# static plot with hypertools\n",
    "\n",
    "geo = hyp.plot(sr_df, ndims=3, size=[7,7])"
   ]
  },
  {
   "cell_type": "code",
   "execution_count": null,
   "metadata": {
    "ExecuteTime": {
     "start_time": "2019-11-14T12:29:52.325Z"
    }
   },
   "outputs": [],
   "source": [
    "# hypertool animations require funky hack to show in jupyter notebook.\n",
    "# (interactive features work only in ipython for me)\n",
    "\n",
    "# make plot\n",
    "geo = hyp.plot(sr_df, ndims=3, animate='parallel', size=[7,7], frame_rate=30, show=False)\n",
    "# get animation attribute\n",
    "anim = geo.line_ani\n",
    "# convert to html video and show\n",
    "HTML(anim.to_html5_video())"
   ]
  },
  {
   "cell_type": "code",
   "execution_count": null,
   "metadata": {},
   "outputs": [],
   "source": []
  }
 ],
 "metadata": {
  "kernelspec": {
   "display_name": "Python 3",
   "language": "python",
   "name": "python3"
  },
  "language_info": {
   "codemirror_mode": {
    "name": "ipython",
    "version": 3
   },
   "file_extension": ".py",
   "mimetype": "text/x-python",
   "name": "python",
   "nbconvert_exporter": "python",
   "pygments_lexer": "ipython3",
   "version": "3.5.3"
  },
  "toc": {
   "base_numbering": 1,
   "nav_menu": {},
   "number_sections": true,
   "sideBar": true,
   "skip_h1_title": false,
   "title_cell": "Table of Contents",
   "title_sidebar": "Contents",
   "toc_cell": false,
   "toc_position": {},
   "toc_section_display": true,
   "toc_window_display": false
  }
 },
 "nbformat": 4,
 "nbformat_minor": 2
}
