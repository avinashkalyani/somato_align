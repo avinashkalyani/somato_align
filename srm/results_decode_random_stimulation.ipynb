{
 "cells": [
  {
   "cell_type": "code",
   "execution_count": 1,
   "metadata": {},
   "outputs": [],
   "source": [
    "import numpy as np"
   ]
  },
  {
   "cell_type": "code",
   "execution_count": 2,
   "metadata": {},
   "outputs": [],
   "source": [
    "results_npy = '/data/project/somato/scratch/decode_random_stimulation/decode_random_stimulation.npy'\n",
    "results = np.load(results_npy)"
   ]
  },
  {
   "cell_type": "code",
   "execution_count": 4,
   "metadata": {},
   "outputs": [
    {
     "data": {
      "text/plain": [
       "(7, 7, 29, 2)"
      ]
     },
     "execution_count": 4,
     "metadata": {},
     "output_type": "execute_result"
    }
   ],
   "source": [
    "# 7x7 iterations over nneighbors and nfeatures\n",
    "results.shape"
   ]
  },
  {
   "cell_type": "code",
   "execution_count": 5,
   "metadata": {},
   "outputs": [],
   "source": [
    "results_av = np.average(results, axis=(2,3))"
   ]
  },
  {
   "cell_type": "code",
   "execution_count": 12,
   "metadata": {},
   "outputs": [
    {
     "name": "stdout",
     "output_type": "stream",
     "text": [
      "0.12556929082628496\n",
      "0.12792778139232272\n",
      "0.12825309043591412\n",
      "0.1279277813923227\n",
      "0.12589459986987636\n",
      "0.127765126870527\n",
      "0.13028627195836043\n",
      "0.12548796356538713\n",
      "0.1242680546519193\n",
      "0.12849707221860768\n",
      "0.13028627195836043\n",
      "0.12597592713077424\n",
      "0.13020494469746258\n",
      "0.1262199089134678\n",
      "0.1234547820429408\n",
      "0.12556929082628496\n",
      "0.12239752765126873\n",
      "0.12548796356538713\n",
      "0.12174690956408589\n",
      "0.12386141834743007\n",
      "0.12540663630448928\n",
      "0.12451203643461287\n",
      "0.12418672739102146\n",
      "0.12394274560832792\n",
      "0.12288549121665582\n",
      "0.1232921275211451\n",
      "0.12329212752114509\n",
      "0.12646389069616135\n",
      "0.12695185426154848\n",
      "0.1234547820429408\n",
      "0.12166558230318802\n",
      "0.12540663630448926\n",
      "0.12386141834743007\n",
      "0.12256018217306439\n",
      "0.12857839947950553\n",
      "0.12410540013012362\n",
      "0.1253253090435914\n",
      "0.12475601821730645\n",
      "0.12150292778139231\n",
      "0.12125894599869874\n",
      "0.12378009108653219\n",
      "0.12556929082628496\n",
      "0.12410540013012362\n",
      "0.12199089134677943\n",
      "0.12150292778139232\n",
      "0.12182823682498373\n",
      "0.12190956408588159\n",
      "0.12410540013012358\n",
      "0.12386141834743006\n"
     ]
    }
   ],
   "source": [
    "for feat_idx, feat_n in enumerate(range(1,8)):\n",
    "    for neigh_idx, neigh_n in enumerate(range(1,8)):\n",
    "        print(np.average(results, axis=(2,3))[feat_idx, neigh_idx])"
   ]
  },
  {
   "cell_type": "code",
   "execution_count": null,
   "metadata": {},
   "outputs": [],
   "source": []
  }
 ],
 "metadata": {
  "kernelspec": {
   "display_name": "Python 3",
   "language": "python",
   "name": "python3"
  },
  "language_info": {
   "codemirror_mode": {
    "name": "ipython",
    "version": 3
   },
   "file_extension": ".py",
   "mimetype": "text/x-python",
   "name": "python",
   "nbconvert_exporter": "python",
   "pygments_lexer": "ipython3",
   "version": "3.7.3"
  }
 },
 "nbformat": 4,
 "nbformat_minor": 2
}
